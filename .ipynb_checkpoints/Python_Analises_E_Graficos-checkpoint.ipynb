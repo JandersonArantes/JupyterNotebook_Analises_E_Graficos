{
 "cells": [
  {
   "cell_type": "markdown",
   "id": "7c8cf7d0",
   "metadata": {},
   "source": [
    "## O que vamos aprender:\n",
    "- Utilizar a biblioteca Pandas - a mais utilizada no mundo para análise de dados\n",
    "- Carregar dados de um arquivo Excel\n",
    "- Fazer análise exploratória nos dados\n",
    "- Gerar estatísticas das colunas quantitativas\n",
    "- Gerar grátifos interativos"
   ]
  },
  {
   "cell_type": "markdown",
   "id": "495ff605",
   "metadata": {},
   "source": [
    "## Projeto\n",
    "- Realizar uma análise de dados sobre uma base de 70.000 linhas de uma rede de lojas de venda de açaí"
   ]
  },
  {
   "cell_type": "markdown",
   "id": "20c2a458",
   "metadata": {},
   "source": [
    "## Carregando os dados do arqvuio Excel\n",
    "## Importando a biblioteca\n",
    "- A biblioteca Pandas já vem pré-instalada no Anaconda, então só precisamos importá-la"
   ]
  },
  {
   "cell_type": "code",
   "execution_count": 2,
   "id": "200c1dfa",
   "metadata": {},
   "outputs": [],
   "source": [
    "import pandas as pd"
   ]
  },
  {
   "cell_type": "code",
   "execution_count": null,
   "id": "8812643b",
   "metadata": {},
   "outputs": [],
   "source": []
  },
  {
   "cell_type": "code",
   "execution_count": null,
   "id": "cf7eeae6",
   "metadata": {},
   "outputs": [],
   "source": []
  },
  {
   "cell_type": "code",
   "execution_count": null,
   "id": "f372c973",
   "metadata": {},
   "outputs": [],
   "source": []
  }
 ],
 "metadata": {
  "kernelspec": {
   "display_name": "Python 3 (ipykernel)",
   "language": "python",
   "name": "python3"
  },
  "language_info": {
   "codemirror_mode": {
    "name": "ipython",
    "version": 3
   },
   "file_extension": ".py",
   "mimetype": "text/x-python",
   "name": "python",
   "nbconvert_exporter": "python",
   "pygments_lexer": "ipython3",
   "version": "3.11.5"
  }
 },
 "nbformat": 4,
 "nbformat_minor": 5
}
